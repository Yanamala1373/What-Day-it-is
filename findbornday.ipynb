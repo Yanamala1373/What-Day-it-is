def lasttwonum(last_two):
    return last_two//4;
    
def monthcode(month):
    mc={
        'january':1,
        'february':4,
        'march':4,
        'april':0,
        'may':2,
        'june':5,
        'july':0,
        'august':3,
        'september':6,
        'october':1,
        'november':4,
        'december':6
    
    }
    return(mc[month])
    
def centurycode(year):
    if(year >1800 and year < 1900):
        return 2
    if(year > 1900 and year < 2000):
        return 0
    if(year > 2000 and year < 3000):
        return 6
    
    
def findday(bday):
    day={
        0:'saturday',
        1:'sunday',
        2:'monday',
        3:'tuesday',
        4:'wednesday',
        5:'thursday',
        6:'friday'
    }
    print("your bornday is on ",day[bday].upper())
    
    
def isleapyear(year):
    if((((year % 4 == 0) and (year % 100 != 0)) or (year % 400 == 0))):
        return 1
    else:
        return 0
    
def leapyear(year,month):
    if(isleapyear(year) and (month=='january' or month=='february')):
        return 1
    else:
        return 0
    
def validyear(year):
    if(year<1800 or year > 2999):
        read_instructions()
        raise Exception("YOU HAVEWRONG YEAR read the above INSTRUCTIONS carefully")
       

    
def validmonth(m):
    if(m not in ['january','february','march','april','may','june','july','august','september','october','november',
        'december']):
        read_instructions()
        raise Exception('You have entered a  wrong month please read the instructions carefully')

        
        
def validdate(date,month,year):
    st_end_date={
        'january':[1,31],
        'february':[1,28],
        'march':[1,31],
        'april':[1,30],
        'may':[1,31],
        'june':[1,30],
        'july':[1,31],
        'august':[1,31],
        'september':[1,30],
        'october':[1,31],
        'november':[1,30],
        'december':[1,31]
    }
    if(isleapyear(year)):
        if(month=='february'):
            if(date < 1 or date > 29):
                read_instructions()
                raise Exception("Invalid Date.Read above instuctions carefully")
    elif(date < st_end_date[month][0] or date > st_end_date[month][1]):
        read_instructions()
        raise Exception("Invalid Date.Read above instuctions carefully")
        
def read_instructions():
    print('INSTRUCTIONS:')
    print('1:Enter the month in MONTH fomat like JANUARY,MARCH,FEBRUARY.')
    print('2:Enter the year in between 1800 to 2999 then only we can  find the bornday.')
    print('3:Enter the correct date according to your month and year(whether it is leap year or not)')
    print('\n')
    print('\n')
    
    
    
month=input("Enter the month:")
month=month.lower()
validmonth(month)
year=int(input("Enter the year:"))
validyear(year)
date=int(input("Enter the date:"))
validdate(date,month,year)
last_two=year%100
leap=lasttwonum(last_two)
result=date+last_two+leap+monthcode(month)+centurycode(year)
if(leapyear(year,month)):
    findday(result%7-1)
else:
    findday(result%7)
